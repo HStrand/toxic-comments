{
 "cells": [
  {
   "cell_type": "code",
   "execution_count": 1,
   "metadata": {
    "collapsed": true
   },
   "outputs": [],
   "source": [
    "import pandas as pd\n",
    "import numpy as np\n",
    "from sklearn.linear_model import LogisticRegression\n",
    "import lightgbm as lgb"
   ]
  },
  {
   "cell_type": "code",
   "execution_count": 2,
   "metadata": {},
   "outputs": [],
   "source": [
    "from nlp_pipeline import *"
   ]
  },
  {
   "cell_type": "code",
   "execution_count": 3,
   "metadata": {
    "collapsed": true
   },
   "outputs": [],
   "source": [
    "oof21 = pd.read_csv(\"submissions\\\\oof_train21.csv\")\n",
    "sub21 = pd.read_csv(\"submissions\\\\submission21.csv\")\n",
    "oof22 = pd.read_csv(\"submissions\\\\oof_train22.csv\")\n",
    "sub22 = pd.read_csv(\"submissions\\\\submission22.csv\")\n",
    "ooflstm4 = pd.read_csv(\"submissions\\\\lstm_ft_oof_template.csv\")\n",
    "sublstm4 = pd.read_csv(\"submissions\\\\lstm4.csv\")\n",
    "oof29 = pd.read_csv(\"submissions\\\\oof_train29.csv\")\n",
    "sub29 = pd.read_csv(\"submissions\\\\submission29.csv\")\n",
    "oof31 = pd.read_csv(\"submissions\\\\oof_train31.csv\")\n",
    "sub31 = pd.read_csv(\"submissions\\\\submission31.csv\")"
   ]
  },
  {
   "cell_type": "code",
   "execution_count": 4,
   "metadata": {
    "collapsed": true
   },
   "outputs": [],
   "source": [
    "train = pd.read_csv('data\\\\train.csv').fillna(' ')\n",
    "test = pd.read_csv('data\\\\test.csv').fillna(' ')"
   ]
  },
  {
   "cell_type": "code",
   "execution_count": 5,
   "metadata": {
    "collapsed": true
   },
   "outputs": [],
   "source": [
    "labels = [c for c in oof21.columns][1:8]"
   ]
  },
  {
   "cell_type": "code",
   "execution_count": 6,
   "metadata": {},
   "outputs": [],
   "source": [
    "pretrained = \"data\\\\crawl-300d-2M.vec\"\n",
    "feature_funcs = [len, asterix_freq, uppercase_freq, line_change_freq, rep_freq, question_freq]\n",
    "transforms = [tokenize]\n",
    "logreg = LogisticRegression(C=0.2, class_weight='balanced', solver='newton-cg', max_iter=10)\n",
    "logreg.name = \"Logistic regression stacker\"\n",
    "gbm = lgb.LGBMClassifier(metric=\"auc\", num_leaves=31, boosting_type=\"gbdt\", learning_rate=0.1, feature_fraction=0.9, bagging_fraction=0.8, bagging_freq=5, reg_lambda=0.5)\n",
    "gbm.name = \"LightGBM stacker\"\n",
    "models = [gbm]"
   ]
  },
  {
   "cell_type": "code",
   "execution_count": 7,
   "metadata": {},
   "outputs": [],
   "source": [
    "pipe = NlpPipeline(train, test, \"comment_text\", labels, feature_funcs, transforms, models, word_index=None, pretrained=pretrained)"
   ]
  },
  {
   "cell_type": "code",
   "execution_count": 8,
   "metadata": {},
   "outputs": [
    {
     "name": "stdout",
     "output_type": "stream",
     "text": [
      "Engineering features\n"
     ]
    }
   ],
   "source": [
    "pipe.engineer_features()"
   ]
  },
  {
   "cell_type": "code",
   "execution_count": 9,
   "metadata": {},
   "outputs": [],
   "source": [
    "train_meta = np.hstack([np.array(oof21[labels]), np.array(oof22[labels]), np.array(ooflstm4[labels]), np.array(oof29[labels]), np.array(oof31[labels])])\n",
    "test_meta = np.hstack([np.array(sub21[labels]), np.array(sub22[labels]), np.array(sublstm4[labels]), np.array(sub29[labels]), np.array(sub31[labels])])"
   ]
  },
  {
   "cell_type": "code",
   "execution_count": 10,
   "metadata": {},
   "outputs": [],
   "source": [
    "pipe.train_features = np.hstack([pipe.train_features, train_meta])\n",
    "pipe.test_features = np.hstack([pipe.test_features, test_meta])"
   ]
  },
  {
   "cell_type": "code",
   "execution_count": 17,
   "metadata": {
    "scrolled": true
   },
   "outputs": [
    {
     "name": "stdout",
     "output_type": "stream",
     "text": [
      "Cross-validating\n",
      "LGBMClassifier(bagging_fraction=0.8, bagging_freq=5, boosting_type='gbdt',\n",
      "        class_weight=None, colsample_bytree=1.0, feature_fraction=0.9,\n",
      "        learning_rate=0.1, max_depth=-1, metric='auc',\n",
      "        min_child_samples=20, min_child_weight=0.001, min_split_gain=0.0,\n",
      "        n_estimators=100, n_jobs=-1, num_leaves=31, objective=None,\n",
      "        random_state=None, reg_alpha=0.0, reg_lambda=0.5, silent=True,\n",
      "        subsample=1.0, subsample_for_bin=200000, subsample_freq=1)\n",
      "Cross-validating toxic\n",
      "roc_auc: 0.9851925414892249\n",
      "Cross-validating severe_toxic\n",
      "roc_auc: 0.9903692335089094\n",
      "Cross-validating obscene\n",
      "roc_auc: 0.9938424809553432\n",
      "Cross-validating threat\n",
      "roc_auc: 0.9924120435441581\n",
      "Cross-validating insult\n",
      "roc_auc: 0.9876524159715508\n",
      "Cross-validating identity_hate\n",
      "roc_auc: 0.988557206382638\n"
     ]
    }
   ],
   "source": [
    "pipe.cross_val()"
   ]
  },
  {
   "cell_type": "code",
   "execution_count": 13,
   "metadata": {},
   "outputs": [
    {
     "data": {
      "text/plain": [
       "{'LightGBM stacker': 0.9898947670691306}"
      ]
     },
     "execution_count": 13,
     "metadata": {},
     "output_type": "execute_result"
    }
   ],
   "source": [
    "pipe.cv_scores"
   ]
  },
  {
   "cell_type": "code",
   "execution_count": 14,
   "metadata": {},
   "outputs": [
    {
     "name": "stdout",
     "output_type": "stream",
     "text": [
      "Fitting and predicting\n",
      "Fitting submission classifier for toxic\n",
      "Fitting submission classifier for severe_toxic\n",
      "Fitting submission classifier for obscene\n",
      "Fitting submission classifier for threat\n",
      "Fitting submission classifier for insult\n",
      "Fitting submission classifier for identity_hate\n"
     ]
    }
   ],
   "source": [
    "pipe.fit_predict()"
   ]
  },
  {
   "cell_type": "code",
   "execution_count": 15,
   "metadata": {},
   "outputs": [
    {
     "name": "stdout",
     "output_type": "stream",
     "text": [
      "Creating submissions\n"
     ]
    }
   ],
   "source": [
    "pipe.create_submission(oof=False)"
   ]
  },
  {
   "cell_type": "code",
   "execution_count": null,
   "metadata": {},
   "outputs": [],
   "source": [
    "pipe"
   ]
  },
  {
   "cell_type": "code",
   "execution_count": null,
   "metadata": {
    "collapsed": true
   },
   "outputs": [],
   "source": [
    "from scipy.special import expit, logit"
   ]
  },
  {
   "cell_type": "code",
   "execution_count": null,
   "metadata": {
    "collapsed": true
   },
   "outputs": [],
   "source": [
    "def rescale(x):\n",
    "    return expit(logit(x) - 0.5)"
   ]
  },
  {
   "cell_type": "code",
   "execution_count": null,
   "metadata": {},
   "outputs": [],
   "source": [
    "rescale(0.5)"
   ]
  },
  {
   "cell_type": "code",
   "execution_count": null,
   "metadata": {},
   "outputs": [],
   "source": [
    "train.toxic.mean()"
   ]
  },
  {
   "cell_type": "code",
   "execution_count": null,
   "metadata": {
    "collapsed": true
   },
   "outputs": [],
   "source": []
  }
 ],
 "metadata": {
  "kernelspec": {
   "display_name": "Python [conda root]",
   "language": "python",
   "name": "conda-root-py"
  },
  "language_info": {
   "codemirror_mode": {
    "name": "ipython",
    "version": 3
   },
   "file_extension": ".py",
   "mimetype": "text/x-python",
   "name": "python",
   "nbconvert_exporter": "python",
   "pygments_lexer": "ipython3",
   "version": "3.6.3"
  }
 },
 "nbformat": 4,
 "nbformat_minor": 2
}
