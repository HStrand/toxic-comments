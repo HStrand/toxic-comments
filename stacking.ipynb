{
 "cells": [
  {
   "cell_type": "code",
   "execution_count": 1,
   "metadata": {
    "collapsed": true
   },
   "outputs": [],
   "source": [
    "import pandas as pd\n",
    "import numpy as np\n",
    "from sklearn.linear_model import LogisticRegression\n",
    "import lightgbm as lgb\n",
    "from sklearn.naive_bayes import GaussianNB\n",
    "from sklearn.svm import SVC\n",
    "from nlp_pipeline import *"
   ]
  },
  {
   "cell_type": "code",
   "execution_count": 2,
   "metadata": {
    "collapsed": true
   },
   "outputs": [],
   "source": [
    "train = pd.read_csv('data\\\\train.csv').fillna(' ')\n",
    "test = pd.read_csv('data\\\\test.csv').fillna(' ')"
   ]
  },
  {
   "cell_type": "code",
   "execution_count": 3,
   "metadata": {
    "collapsed": true
   },
   "outputs": [],
   "source": [
    "labels = [\"toxic\", \"severe_toxic\", \"obscene\", \"threat\", \"insult\", \"identity_hate\"]"
   ]
  },
  {
   "cell_type": "code",
   "execution_count": 17,
   "metadata": {
    "collapsed": true
   },
   "outputs": [],
   "source": [
    "subnums = [21,22,29,33,37,44,45,51,52,57,59,62,66]\n",
    "# subnums = [21,22,29,33,37,44]\n",
    "# subnums = [45,51,52,57,59,62,66]"
   ]
  },
  {
   "cell_type": "code",
   "execution_count": 18,
   "metadata": {
    "collapsed": true
   },
   "outputs": [],
   "source": [
    "oofs = [np.array(pd.read_csv(\"submissions\\\\oof_train\" + str(num) + \".csv\")[labels]) for num in subnums]\n",
    "subs = [np.array(pd.read_csv(\"submissions\\\\submission\" + str(num) + \".csv\")[labels]) for num in subnums]"
   ]
  },
  {
   "cell_type": "code",
   "execution_count": 19,
   "metadata": {
    "collapsed": true
   },
   "outputs": [],
   "source": [
    "train_meta = np.hstack(oofs)\n",
    "test_meta = np.hstack(subs)"
   ]
  },
  {
   "cell_type": "code",
   "execution_count": 20,
   "metadata": {
    "collapsed": true
   },
   "outputs": [],
   "source": [
    "pretrained = \"data\\\\crawl-300d-2M.vec\"\n",
    "feature_funcs = [len, asterix_freq, uppercase_freq, line_change_freq, rep_freq, question_freq, has_ip, has_talk_tag, link_count, starts_with_i, starts_with_you, about_image]\n",
    "transforms = [tokenize]\n",
    "gbm = lgb.LGBMClassifier(max_depth=3, metric=\"auc\", n_estimators=125, num_leaves=10, boosting_type=\"gbdt\", learning_rate=0.1, feature_fraction=0.45, colsample_bytree=0.45, bagging_fraction=0.8, bagging_freq=5, reg_lambda=0.2)\n",
    "gbm.name = \"LightGBM stacker\"\n",
    "models = [gbm]"
   ]
  },
  {
   "cell_type": "code",
   "execution_count": 21,
   "metadata": {
    "collapsed": true
   },
   "outputs": [],
   "source": [
    "pipe = NlpPipeline(train, test, \"comment_text\", labels, feature_funcs, transforms, models, word_index=None, pretrained=pretrained)"
   ]
  },
  {
   "cell_type": "code",
   "execution_count": 22,
   "metadata": {},
   "outputs": [
    {
     "name": "stdout",
     "output_type": "stream",
     "text": [
      "Engineering features\n"
     ]
    }
   ],
   "source": [
    "pipe.engineer_features()"
   ]
  },
  {
   "cell_type": "code",
   "execution_count": 23,
   "metadata": {
    "collapsed": true
   },
   "outputs": [],
   "source": [
    "pipe.train_features = np.hstack([pipe.train_features, train_meta])\n",
    "pipe.test_features = np.hstack([pipe.test_features, test_meta])"
   ]
  },
  {
   "cell_type": "code",
   "execution_count": 24,
   "metadata": {
    "scrolled": true
   },
   "outputs": [
    {
     "name": "stdout",
     "output_type": "stream",
     "text": [
      "Cross-validating\n",
      "LGBMClassifier(bagging_fraction=0.8, bagging_freq=5, boosting_type='gbdt',\n",
      "        class_weight=None, colsample_bytree=0.45, feature_fraction=0.45,\n",
      "        learning_rate=0.1, max_depth=3, metric='auc', min_child_samples=20,\n",
      "        min_child_weight=0.001, min_split_gain=0.0, n_estimators=125,\n",
      "        n_jobs=-1, num_leaves=10, objective=None, random_state=None,\n",
      "        reg_alpha=0.0, reg_lambda=0.2, silent=True, subsample=1.0,\n",
      "        subsample_for_bin=200000, subsample_freq=1)\n",
      "Cross-validating toxic\n",
      "roc_auc: 0.9881824341380547\n",
      "Cross-validating severe_toxic\n",
      "roc_auc: 0.9919512575891855\n",
      "Cross-validating obscene\n",
      "roc_auc: 0.9953419530149648\n",
      "Cross-validating threat\n",
      "roc_auc: 0.9932315401027237\n",
      "Cross-validating insult\n",
      "roc_auc: 0.9897935938419493\n",
      "Cross-validating identity_hate\n",
      "roc_auc: 0.9915402222995928\n"
     ]
    }
   ],
   "source": [
    "pipe.cross_val()"
   ]
  },
  {
   "cell_type": "code",
   "execution_count": 25,
   "metadata": {},
   "outputs": [
    {
     "data": {
      "text/plain": [
       "{'LightGBM stacker': 0.9916735001644117}"
      ]
     },
     "execution_count": 25,
     "metadata": {},
     "output_type": "execute_result"
    }
   ],
   "source": [
    "pipe.cv_scores # 0.9915737493264863"
   ]
  },
  {
   "cell_type": "code",
   "execution_count": 26,
   "metadata": {
    "scrolled": true
   },
   "outputs": [
    {
     "name": "stdout",
     "output_type": "stream",
     "text": [
      "Creating out-of-fold meta training set for stacker\n",
      "LGBMClassifier(bagging_fraction=0.8, bagging_freq=5, boosting_type='gbdt',\n",
      "        class_weight=None, colsample_bytree=0.45, feature_fraction=0.45,\n",
      "        learning_rate=0.1, max_depth=3, metric='auc', min_child_samples=20,\n",
      "        min_child_weight=0.001, min_split_gain=0.0, n_estimators=125,\n",
      "        n_jobs=-1, num_leaves=10, objective=None, random_state=None,\n",
      "        reg_alpha=0.0, reg_lambda=0.2, silent=True, subsample=1.0,\n",
      "        subsample_for_bin=200000, subsample_freq=1)\n",
      "toxic\n",
      "AUC: 0.9883224656657963\n",
      "AUC: 0.9869160164875278\n",
      "AUC: 0.988839578249936\n",
      "AUC: 0.9882628188914584\n",
      "AUC: 0.9887312495385802\n",
      "severe_toxic\n",
      "AUC: 0.9917266123916032\n",
      "AUC: 0.9919247359509796\n",
      "AUC: 0.9924514688000978\n",
      "AUC: 0.9916473244603421\n",
      "AUC: 0.9912926617659128\n",
      "obscene\n",
      "AUC: 0.9954411213870601\n",
      "AUC: 0.995289528634506\n",
      "AUC: 0.9954051003761569\n",
      "AUC: 0.9948869104217979\n",
      "AUC: 0.9955459348614526\n",
      "threat\n",
      "AUC: 0.9971416251526801\n",
      "AUC: 0.9936400750303431\n",
      "AUC: 0.994832682008624\n",
      "AUC: 0.9945752918834482\n",
      "AUC: 0.9883819584667767\n",
      "insult\n",
      "AUC: 0.9896547473885212\n",
      "AUC: 0.989957941412398\n",
      "AUC: 0.9898029605085983\n",
      "AUC: 0.9892967420685836\n",
      "AUC: 0.9895911583344206\n",
      "identity_hate\n",
      "AUC: 0.9916907024028421\n",
      "AUC: 0.9934132776424592\n",
      "AUC: 0.9883916661429274\n",
      "AUC: 0.9902419220237907\n",
      "AUC: 0.9917234794506947\n",
      "CV score: 0.9916339919266773\n",
      "Fitting and predicting\n",
      "Fitting submission classifier for toxic\n",
      "Fitting submission classifier for severe_toxic\n",
      "Fitting submission classifier for obscene\n",
      "Fitting submission classifier for threat\n",
      "Fitting submission classifier for insult\n",
      "Fitting submission classifier for identity_hate\n"
     ]
    }
   ],
   "source": [
    "pipe.fit_predict_oof()"
   ]
  },
  {
   "cell_type": "code",
   "execution_count": 27,
   "metadata": {},
   "outputs": [
    {
     "name": "stdout",
     "output_type": "stream",
     "text": [
      "Creating submissions\n"
     ]
    }
   ],
   "source": [
    "pipe.create_submission(oof=False)"
   ]
  },
  {
   "cell_type": "code",
   "execution_count": null,
   "metadata": {
    "collapsed": true
   },
   "outputs": [],
   "source": []
  }
 ],
 "metadata": {
  "kernelspec": {
   "display_name": "Python [conda root]",
   "language": "python",
   "name": "conda-root-py"
  },
  "language_info": {
   "codemirror_mode": {
    "name": "ipython",
    "version": 3
   },
   "file_extension": ".py",
   "mimetype": "text/x-python",
   "name": "python",
   "nbconvert_exporter": "python",
   "pygments_lexer": "ipython3",
   "version": "3.6.3"
  }
 },
 "nbformat": 4,
 "nbformat_minor": 2
}
