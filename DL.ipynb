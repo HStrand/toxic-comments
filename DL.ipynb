{
 "cells": [
  {
   "cell_type": "code",
   "execution_count": 1,
   "metadata": {},
   "outputs": [
    {
     "name": "stderr",
     "output_type": "stream",
     "text": [
      "C:\\ProgramData\\Anaconda3\\lib\\site-packages\\h5py\\__init__.py:34: FutureWarning: Conversion of the second argument of issubdtype from `float` to `np.floating` is deprecated. In future, it will be treated as `np.float64 == np.dtype(float).type`.\n",
      "  from ._conv import register_converters as _register_converters\n",
      "Using TensorFlow backend.\n"
     ]
    }
   ],
   "source": [
    "import pandas as pd\n",
    "import numpy as np\n",
    "from keras.preprocessing.text import Tokenizer\n",
    "from keras.preprocessing.sequence import pad_sequences\n",
    "from keras.layers import Dense, Input, LSTM, Embedding, Dropout, Activation, PReLU, Add, CuDNNGRU, CuDNNLSTM, GRU\n",
    "from keras.layers import Bidirectional, GlobalMaxPool1D, BatchNormalization, SpatialDropout1D, GlobalMaxPooling1D, GlobalAveragePooling1D, concatenate\n",
    "from keras.models import Model\n",
    "from keras import initializers, regularizers, constraints, optimizers, layers, callbacks\n",
    "from keras.callbacks import LearningRateScheduler\n",
    "from sklearn.model_selection import KFold\n",
    "from sklearn.metrics import roc_auc_score\n",
    "from attlayer import AttentionWeightedAverage\n",
    "from nlp_pipeline import *"
   ]
  },
  {
   "cell_type": "code",
   "execution_count": 2,
   "metadata": {
    "collapsed": true
   },
   "outputs": [],
   "source": [
    "N_DIMS = 300\n",
    "\n",
    "def get_coefs(row):\n",
    "    row = row.strip().split()\n",
    "    word, arr = \" \".join(row[:-N_DIMS]), row[-N_DIMS:]\n",
    "    return word, np.asarray(arr, dtype='float32')\n",
    "\n",
    "def get_pretrained(text_file):\n",
    "    return dict(get_coefs(row) for row in open(text_file, encoding=\"utf-8\"))\n",
    "\n",
    "def get_indices(fold):\n",
    "    folds = KFold(n_splits=5, shuffle=True, random_state=42)\n",
    "    indices = [idx for idx in folds.split(train[\"id\"])]\n",
    "    train_idx = indices[fold][0]\n",
    "    pred_idx = indices[fold][1]\n",
    "    return train_idx, pred_idx  \n",
    "\n",
    "def halve(epoch):\n",
    "    base = 0.002\n",
    "    return base/(2**epoch)\n",
    "\n",
    "def decay07(epoch):\n",
    "    base = 0.001\n",
    "    return base*(0.7**epoch)"
   ]
  },
  {
   "cell_type": "code",
   "execution_count": 12,
   "metadata": {
    "collapsed": true
   },
   "outputs": [],
   "source": [
    "class LstmNet():\n",
    "    \n",
    "    def __init__(self, embed_size, max_features, maxlen, embedding_matrix, num_features):\n",
    "        input1 = Input(shape=(maxlen,))\n",
    "        model1 = Embedding(max_features, embed_size, weights=[embedding_matrix], trainable=False)(input1)\n",
    "        # model1 = SpatialDropout1D(0.5)(model1)\n",
    "        model1 = SpatialDropout1D(0.4)(model1)\n",
    "        model1 = Bidirectional(GRU(300, return_sequences=True))(model1)\n",
    "        # model1 = AttentionWeightedAverage()(model1)\n",
    "        model1 = GlobalMaxPooling1D()(model1)\n",
    "\n",
    "        out = Dense(6, activation=\"sigmoid\")(model1)\n",
    "        self.model = Model(inputs=input1, outputs=out)\n",
    "        self.model.compile(loss='binary_crossentropy', optimizer='Nadam', metrics=['accuracy'])\n",
    "    \n",
    "    def fit(self, train_features, train_labels):\n",
    "        # early = callbacks.EarlyStopping(monitor='val_loss', min_delta=0.001, patience=0, verbose=0, mode='auto')\n",
    "        # file_path=\"weights_base.best.hdf5\"\n",
    "        # checkpoint = callbacks.ModelCheckpoint(file_path, monitor='val_loss', verbose=1, save_best_only=True, mode='min')\n",
    "        lrate = LearningRateScheduler(decay07)\n",
    "        # self.model.fit(train_features, y=train_labels, batch_size=32, epochs=3, validation_split=0.1, shuffle=True, callbacks=[lrate])\n",
    "        self.model.fit(train_features, y=train_labels, batch_size=32, epochs=3, callbacks=[lrate])\n",
    "        # self.model.fit(train_features, train_labels, batch_size=32, epochs=2)\n",
    "\n",
    "    def predict_proba(self, X):\n",
    "        self.predictions = self.model.predict(X, batch_size=1024, verbose=1)\n",
    "        return self.predictions\n",
    "\n",
    "    def submit(self):\n",
    "        sub = pd.read_csv('data\\\\sample_submission.csv')\n",
    "        sub[list_classes] = self.predictions\n",
    "        sub.to_csv('submissions\\\\lstm22.csv', index=False)"
   ]
  },
  {
   "cell_type": "code",
   "execution_count": 7,
   "metadata": {
    "collapsed": true
   },
   "outputs": [],
   "source": [
    "def train_lstm(oof=True, fold=0):\n",
    "    if oof:\n",
    "        train_idx, pred_idx = get_indices(fold)\n",
    "        net = LstmNet(embed_size, max_features, maxlen, embedding_matrix, num_features)\n",
    "        net.fit(X_t[train_idx], y[train_idx])\n",
    "        y_oof = net.predict_proba(X_t[pred_idx])\n",
    "        \n",
    "        sub_oof = pd.read_csv('submissions\\\\oof_trainlstm22.csv', encoding=\"utf-8\")\n",
    "        for i in range(0,len(list_classes)):\n",
    "            sub_oof[list_classes[i]][pred_idx] = y_oof[:,i]\n",
    "        sub_oof.to_csv('submissions\\\\oof_trainlstm22.csv', index=False, encoding=\"utf-8\")\n",
    "    \n",
    "    else:\n",
    "        net = LstmNet(embed_size, max_features, maxlen, embedding_matrix, num_features)\n",
    "        net.fit(X_t, y)\n",
    "        y_test = net.predict_proba(X_te)\n",
    "        net.submit()"
   ]
  },
  {
   "cell_type": "code",
   "execution_count": 4,
   "metadata": {
    "collapsed": true
   },
   "outputs": [],
   "source": [
    "# pretrained = \"data\\\\crawl-300d-2M.vec\"\n",
    "pretrained = 'data\\\\glove.840B.300d.txt'\n",
    "\n",
    "embed_size = 300\n",
    "# max_features = 394787\n",
    "max_features = 200000\n",
    "# maxlen = 500\n",
    "maxlen = 150\n",
    "num_features = 12"
   ]
  },
  {
   "cell_type": "code",
   "execution_count": 5,
   "metadata": {
    "collapsed": true
   },
   "outputs": [],
   "source": [
    "train = pd.read_csv('data\\\\train.csv').fillna(' ')\n",
    "test = pd.read_csv('data\\\\test.csv').fillna(' ')"
   ]
  },
  {
   "cell_type": "code",
   "execution_count": 8,
   "metadata": {},
   "outputs": [
    {
     "name": "stdout",
     "output_type": "stream",
     "text": [
      "Tokenizing\n",
      "Getting data\\glove.840B.300d.txt\n"
     ]
    }
   ],
   "source": [
    "list_sentences_train = train[\"comment_text\"].values\n",
    "list_classes = [\"toxic\", \"severe_toxic\", \"obscene\", \"threat\", \"insult\", \"identity_hate\"]\n",
    "y = train[list_classes].values\n",
    "list_sentences_test = test[\"comment_text\"].values\n",
    "\n",
    "print(\"Tokenizing\")\n",
    "tokenizer = Tokenizer(num_words=max_features)\n",
    "tokenizer.fit_on_texts(list(np.concatenate([list_sentences_train, list_sentences_test])))\n",
    "list_tokenized_train = tokenizer.texts_to_sequences(list_sentences_train)\n",
    "list_tokenized_test = tokenizer.texts_to_sequences(list_sentences_test)\n",
    "X_t = pad_sequences(list_tokenized_train, maxlen=maxlen)\n",
    "X_te = pad_sequences(list_tokenized_test, maxlen=maxlen)\n",
    "\n",
    "print(\"Getting\", pretrained)\n",
    "embeddings_index = get_pretrained(pretrained)\n",
    "\n",
    "all_embs = np.stack(embeddings_index.values())\n",
    "emb_mean,emb_std = all_embs.mean(), all_embs.std()\n",
    "\n",
    "word_index = tokenizer.word_index\n",
    "nb_words = min(max_features, len(word_index))\n",
    "embedding_matrix = np.random.normal(emb_mean, emb_std, (nb_words, embed_size))\n",
    "for word, i in word_index.items():\n",
    "    if i >= max_features: continue\n",
    "    embedding_vector = embeddings_index.get(word)\n",
    "    if embedding_vector is not None: embedding_matrix[i] = embedding_vector"
   ]
  },
  {
   "cell_type": "code",
   "execution_count": 9,
   "metadata": {
    "collapsed": true
   },
   "outputs": [],
   "source": [
    "class_labels = [column for column in train.columns[2:8]]\n",
    "feature_funcs = [len, asterix_freq, uppercase_freq, line_change_freq, rep_freq, question_freq, has_ip, has_talk_tag, link_count, starts_with_i, starts_with_you, about_image]\n",
    "transforms = [tokenize]\n",
    "gbm = lgb.LGBMClassifier(metric=\"auc\", max_depth=3, num_leaves=10, boosting_type=\"gbdt\", learning_rate=0.1, feature_fraction=0.5, colsample_bytree=0.5, bagging_fraction=0.8, bagging_freq=5, reg_lambda=0.2)\n",
    "gbm.name = \"LightGBM stacker\"\n",
    "models = [gbm]\n",
    "\n",
    "pipe = NlpPipeline(train, test, \"comment_text\", class_labels, feature_funcs, transforms, models, word_index=word_index, pretrained=pretrained)"
   ]
  },
  {
   "cell_type": "code",
   "execution_count": 10,
   "metadata": {},
   "outputs": [
    {
     "name": "stdout",
     "output_type": "stream",
     "text": [
      "Engineering features\n"
     ]
    }
   ],
   "source": [
    "pipe.engineer_features()"
   ]
  },
  {
   "cell_type": "code",
   "execution_count": 13,
   "metadata": {},
   "outputs": [
    {
     "name": "stdout",
     "output_type": "stream",
     "text": [
      "Epoch 1/3\n",
      "159571/159571 [==============================] - 1640s 10ms/step - loss: 0.0508 - acc: 0.9811\n",
      "Epoch 2/3\n",
      "159571/159571 [==============================] - 1682s 11ms/step - loss: 0.0422 - acc: 0.9836\n",
      "Epoch 3/3\n",
      "159571/159571 [==============================] - 1780s 11ms/step - loss: 0.0386 - acc: 0.9848\n",
      "153164/153164 [==============================] - 55s 360us/step\n"
     ]
    }
   ],
   "source": [
    "train_lstm(oof=False)"
   ]
  },
  {
   "cell_type": "code",
   "execution_count": null,
   "metadata": {},
   "outputs": [
    {
     "name": "stdout",
     "output_type": "stream",
     "text": [
      "Epoch 1/3\n",
      "127656/127656 [==============================] - 1710s 13ms/step - loss: 0.0513 - acc: 0.9810\n",
      "Epoch 2/3\n",
      "127656/127656 [==============================] - 1581s 12ms/step - loss: 0.0424 - acc: 0.9835\n",
      "Epoch 3/3\n",
      "127656/127656 [==============================] - 1290s 10ms/step - loss: 0.0388 - acc: 0.9847\n",
      "31915/31915 [==============================] - 11s 349us/step\n"
     ]
    },
    {
     "name": "stderr",
     "output_type": "stream",
     "text": [
      "C:\\ProgramData\\Anaconda3\\lib\\site-packages\\ipykernel\\__main__.py:10: SettingWithCopyWarning: \n",
      "A value is trying to be set on a copy of a slice from a DataFrame\n",
      "\n",
      "See the caveats in the documentation: http://pandas.pydata.org/pandas-docs/stable/indexing.html#indexing-view-versus-copy\n"
     ]
    }
   ],
   "source": [
    "train_lstm()"
   ]
  },
  {
   "cell_type": "code",
   "execution_count": null,
   "metadata": {},
   "outputs": [
    {
     "name": "stdout",
     "output_type": "stream",
     "text": [
      "Epoch 1/3\n",
      "127657/127657 [==============================] - 1272s 10ms/step - loss: 0.0516 - acc: 0.9809\n",
      "Epoch 2/3\n",
      "127657/127657 [==============================] - 1270s 10ms/step - loss: 0.0423 - acc: 0.9836\n",
      "Epoch 3/3\n",
      "103808/127657 [=======================>......] - ETA: 4:00 - loss: 0.0384 - acc: 0.9849"
     ]
    }
   ],
   "source": [
    "train_lstm(fold=1)"
   ]
  },
  {
   "cell_type": "code",
   "execution_count": null,
   "metadata": {
    "collapsed": true
   },
   "outputs": [],
   "source": [
    "train_lstm(fold=2)"
   ]
  },
  {
   "cell_type": "code",
   "execution_count": null,
   "metadata": {
    "collapsed": true
   },
   "outputs": [],
   "source": [
    "train_lstm(fold=3)"
   ]
  },
  {
   "cell_type": "code",
   "execution_count": null,
   "metadata": {
    "collapsed": true
   },
   "outputs": [],
   "source": [
    "train_lstm(fold=4)"
   ]
  },
  {
   "cell_type": "code",
   "execution_count": null,
   "metadata": {
    "collapsed": true
   },
   "outputs": [],
   "source": []
  }
 ],
 "metadata": {
  "kernelspec": {
   "display_name": "Python [conda root]",
   "language": "python",
   "name": "conda-root-py"
  },
  "language_info": {
   "codemirror_mode": {
    "name": "ipython",
    "version": 3
   },
   "file_extension": ".py",
   "mimetype": "text/x-python",
   "name": "python",
   "nbconvert_exporter": "python",
   "pygments_lexer": "ipython3",
   "version": "3.6.3"
  }
 },
 "nbformat": 4,
 "nbformat_minor": 2
}
