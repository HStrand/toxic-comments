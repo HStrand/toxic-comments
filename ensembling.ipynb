{
 "cells": [
  {
   "cell_type": "code",
   "execution_count": 17,
   "metadata": {},
   "outputs": [],
   "source": [
    "import pandas as pd\n",
    "import numpy as np\n",
    "import os\n",
    "import re\n",
    "import lightgbm as lgb\n",
    "import warnings\n",
    "warnings.filterwarnings(action='ignore', module='sklearn')\n",
    "from sklearn.preprocessing import StandardScaler\n",
    "from sklearn.model_selection import cross_val_score\n",
    "from sklearn.model_selection import StratifiedKFold\n",
    "from feature_engineering import *"
   ]
  },
  {
   "cell_type": "code",
   "execution_count": 22,
   "metadata": {
    "collapsed": true
   },
   "outputs": [],
   "source": [
    "root_path = os.getcwd()\n",
    "data_path = os.path.join(root_path,\"data\")\n",
    "meta_path = os.path.join(root_path,\"meta\")\n",
    "sub_path = os.path.join(root_path,\"submissions\")"
   ]
  },
  {
   "cell_type": "code",
   "execution_count": 24,
   "metadata": {},
   "outputs": [],
   "source": [
    "def get_subs(nums):\n",
    "    subs = np.hstack([np.array(pd.read_csv(os.path.join(sub_path, \"submission\" + str(num) + \".csv\"))[LABELS]) for num in subnums])\n",
    "    oofs = np.hstack([np.array(pd.read_csv(os.path.join(sub_path, \"oof_train\" + str(num) + \".csv\"))[LABELS]) for num in subnums])\n",
    "    return subs, oofs"
   ]
  },
  {
   "cell_type": "code",
   "execution_count": 25,
   "metadata": {
    "collapsed": true
   },
   "outputs": [],
   "source": [
    "train = pd.read_csv(os.path.join(data_path, \"train.csv\")).fillna(' ')\n",
    "test = pd.read_csv(os.path.join(data_path, \"test.csv\")).fillna(' ')\n",
    "sub = pd.read_csv(os.path.join(data_path, \"sample_submission.csv\"))\n",
    "INPUT_COLUMN = \"comment_text\"\n",
    "LABELS = train.columns[2:]"
   ]
  },
  {
   "cell_type": "markdown",
   "metadata": {},
   "source": [
    "#### Handcrafted features"
   ]
  },
  {
   "cell_type": "code",
   "execution_count": 26,
   "metadata": {},
   "outputs": [],
   "source": [
    "feature_functions = [len, asterix_freq, uppercase_freq, line_change_freq, rep_freq, question_freq, has_ip, has_talk_tag, link_count, starts_with_i, starts_with_you, about_image]\n",
    "features = [f.__name__ for f in feature_functions]\n",
    "F_train = engineer_features(train[INPUT_COLUMN], feature_functions)\n",
    "F_test = engineer_features(test[INPUT_COLUMN], feature_functions)"
   ]
  },
  {
   "cell_type": "markdown",
   "metadata": {},
   "source": [
    "#### Get out-of-fold predictions "
   ]
  },
  {
   "cell_type": "code",
   "execution_count": 41,
   "metadata": {
    "collapsed": true
   },
   "outputs": [],
   "source": [
    "# subnums = [21,22,29,33,37,44,45,51,52,57,59,62,66,68,74,76,79,84,86]\n",
    "# subnums = [21,22,29,33,37,44,45,51,52,57,59,62,66,68,74,76]\n",
    "subnums = [21,22,29,33,37,44,45,51,52,57,59,62,66,68,74,95]\n",
    "subs, oofs = get_subs(subnums)"
   ]
  },
  {
   "cell_type": "markdown",
   "metadata": {},
   "source": [
    "#### Include Abhishek's models"
   ]
  },
  {
   "cell_type": "code",
   "execution_count": 42,
   "metadata": {},
   "outputs": [],
   "source": [
    "abh_model_info = pd.read_csv(os.path.join(meta_path, \"abh_models.csv\"))"
   ]
  },
  {
   "cell_type": "code",
   "execution_count": 43,
   "metadata": {
    "scrolled": true
   },
   "outputs": [],
   "source": [
    "def get_best_abh_models(num):\n",
    "    models = abh_model_info.sort_values(\"cv\",ascending=False)[:num]\n",
    "    return list(models.model)"
   ]
  },
  {
   "cell_type": "code",
   "execution_count": 8,
   "metadata": {},
   "outputs": [],
   "source": [
    "abh_filenames = get_best_abh_models(62)"
   ]
  },
  {
   "cell_type": "code",
   "execution_count": 44,
   "metadata": {
    "collapsed": true
   },
   "outputs": [],
   "source": [
    "abh_filenames = [\"gru_lstm_cnn_preprocess_fasttext_crawl_v2_500\",\"gru_lstm_preprocess_fasttext_crawl_lr\",\"pooled_dict_preprocess_bidir_gru_fasttext_wiki_100k_shuffle10\",\"cnn_cnn_gru_preprocess_fasttext_crawl_shuffle10\"]"
   ]
  },
  {
   "cell_type": "code",
   "execution_count": 45,
   "metadata": {},
   "outputs": [
    {
     "data": {
      "text/plain": [
       "['gru_lstm_cnn_preprocess_fasttext_crawl_v2_500',\n",
       " 'gru_lstm_preprocess_fasttext_crawl_lr',\n",
       " 'pooled_dict_preprocess_bidir_gru_fasttext_wiki_100k_shuffle10',\n",
       " 'cnn_cnn_gru_preprocess_fasttext_crawl_shuffle10']"
      ]
     },
     "execution_count": 45,
     "metadata": {},
     "output_type": "execute_result"
    }
   ],
   "source": [
    "abh_filenames"
   ]
  },
  {
   "cell_type": "code",
   "execution_count": 46,
   "metadata": {
    "collapsed": true
   },
   "outputs": [],
   "source": [
    "abh_trainfiles = [model+\"_train.csv\" for model in abh_filenames]\n",
    "abh_testfiles = [model+\"_test.csv\" for model in abh_filenames]"
   ]
  },
  {
   "cell_type": "code",
   "execution_count": 47,
   "metadata": {
    "scrolled": true
   },
   "outputs": [],
   "source": [
    "abh_train = [np.array(pd.read_csv(os.path.join(sub_path, model), header=None)) for model in abh_trainfiles]\n",
    "abh_test = [np.array(pd.read_csv(os.path.join(sub_path, model), header=None)) for model in abh_testfiles]"
   ]
  },
  {
   "cell_type": "code",
   "execution_count": 48,
   "metadata": {},
   "outputs": [],
   "source": [
    "for model in abh_train:\n",
    "    oofs = np.hstack([oofs, model])\n",
    "for model in abh_test:\n",
    "    subs = np.hstack([subs, model])"
   ]
  },
  {
   "cell_type": "markdown",
   "metadata": {},
   "source": [
    "#### Stack everything together "
   ]
  },
  {
   "cell_type": "code",
   "execution_count": 49,
   "metadata": {
    "collapsed": true
   },
   "outputs": [],
   "source": [
    "X_train = np.hstack([F_train[features].as_matrix(), oofs])\n",
    "X_test = np.hstack([F_test[features].as_matrix(), subs])"
   ]
  },
  {
   "cell_type": "code",
   "execution_count": 50,
   "metadata": {},
   "outputs": [
    {
     "data": {
      "text/plain": [
       "(159571, 132)"
      ]
     },
     "execution_count": 50,
     "metadata": {},
     "output_type": "execute_result"
    }
   ],
   "source": [
    "X_train.shape"
   ]
  },
  {
   "cell_type": "code",
   "execution_count": 51,
   "metadata": {},
   "outputs": [
    {
     "name": "stdout",
     "output_type": "stream",
     "text": [
      "toxic\n",
      "AUC: [0.98896157 0.98883888 0.98878462 0.98905488 0.9884646 ]\n",
      "severe_toxic\n",
      "AUC: [0.99229864 0.99214421 0.99088384 0.99210799 0.99292307]\n",
      "obscene\n",
      "AUC: [0.99553505 0.99529337 0.99602365 0.99553795 0.99512791]\n",
      "threat\n",
      "AUC: [0.99045136 0.99636158 0.99173286 0.99269199 0.99512093]\n",
      "insult\n",
      "AUC: [0.9902852  0.98942226 0.9909165  0.98984552 0.98998047]\n",
      "identity_hate\n",
      "AUC: [0.99239905 0.98883953 0.99108728 0.9913979  0.99337036]\n",
      "CV score: 0.9918627673507275\n"
     ]
    }
   ],
   "source": [
    "stacker = lgb.LGBMClassifier(max_depth=3, metric=\"auc\", n_estimators=125, num_leaves=10, boosting_type=\"gbdt\", learning_rate=0.1, feature_fraction=0.45, colsample_bytree=0.45, bagging_fraction=0.8, bagging_freq=5, reg_lambda=0.2)\n",
    "scores = []\n",
    "for label in LABELS:\n",
    "    print(label)\n",
    "    cv = StratifiedKFold(5, random_state=42)\n",
    "    score = cross_val_score(stacker, X_train, train[label], cv=cv, scoring='roc_auc')\n",
    "    print(\"AUC:\", score)\n",
    "    scores.append(np.mean(score))\n",
    "    stacker.fit(X_train, train[label])\n",
    "    sub[label] = stacker.predict_proba(X_test)[:,1]\n",
    "print(\"CV score:\", np.mean(scores))"
   ]
  },
  {
   "cell_type": "code",
   "execution_count": 52,
   "metadata": {
    "collapsed": true
   },
   "outputs": [],
   "source": [
    "sub.to_csv(os.path.join(sub_path,\"submission96.csv\"), index=False)"
   ]
  },
  {
   "cell_type": "code",
   "execution_count": 16,
   "metadata": {
    "collapsed": true
   },
   "outputs": [],
   "source": [
    "# submission90 AUC: 0.992135625004547\n",
    "# submission91 AUC: 0.9922507801414321\n",
    "# submission92 AUC: 0.991882486097003\n",
    "# submission93 AUC: 0.9920944709837135\n",
    "# submission94 AUC: 0.9922206603538549\n",
    "# submission96 AUC: 0.9918627673507275"
   ]
  }
 ],
 "metadata": {
  "kernelspec": {
   "display_name": "Python [conda root]",
   "language": "python",
   "name": "conda-root-py"
  },
  "language_info": {
   "codemirror_mode": {
    "name": "ipython",
    "version": 3
   },
   "file_extension": ".py",
   "mimetype": "text/x-python",
   "name": "python",
   "nbconvert_exporter": "python",
   "pygments_lexer": "ipython3",
   "version": "3.6.3"
  }
 },
 "nbformat": 4,
 "nbformat_minor": 2
}
