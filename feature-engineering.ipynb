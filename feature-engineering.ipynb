{
 "cells": [
  {
   "cell_type": "code",
   "execution_count": 2,
   "metadata": {
    "collapsed": true
   },
   "outputs": [],
   "source": [
    "import pandas as pd\n",
    "import numpy as np\n",
    "from nlp_pipeline import *"
   ]
  },
  {
   "cell_type": "code",
   "execution_count": 3,
   "metadata": {
    "collapsed": true
   },
   "outputs": [],
   "source": [
    "train = pd.read_csv('data\\\\train.csv').fillna(' ')\n",
    "test = pd.read_csv('data\\\\test.csv').fillna(' ')"
   ]
  },
  {
   "cell_type": "code",
   "execution_count": 4,
   "metadata": {
    "collapsed": true
   },
   "outputs": [],
   "source": [
    "pretrained = 'data\\\\glove.840B.300d.txt'"
   ]
  },
  {
   "cell_type": "code",
   "execution_count": 5,
   "metadata": {},
   "outputs": [
    {
     "name": "stdout",
     "output_type": "stream",
     "text": [
      "Getting pretrained model from data\\glove.840B.300d.txt\n"
     ]
    }
   ],
   "source": [
    "print(\"Getting pretrained model from\", pretrained)\n",
    "vector_model = get_pretrained(pretrained)"
   ]
  },
  {
   "cell_type": "code",
   "execution_count": 6,
   "metadata": {
    "collapsed": true
   },
   "outputs": [],
   "source": [
    "train = train[:10000]\n",
    "test = test[:10000]"
   ]
  },
  {
   "cell_type": "code",
   "execution_count": 9,
   "metadata": {
    "collapsed": true
   },
   "outputs": [],
   "source": [
    "class_labels = [column for column in train.columns[2:8]]\n",
    "feature_funcs = [len, asterix_freq, uppercase_freq, line_change_freq, rep_freq, question_freq]\n",
    "transforms = [tokenize]\n",
    "logreg = LogisticRegression(C=30.0, class_weight='balanced', solver='newton-cg')\n",
    "logreg.name = \"Logistic regression newton\"\n",
    "models = [logreg]"
   ]
  },
  {
   "cell_type": "code",
   "execution_count": 8,
   "metadata": {
    "collapsed": true
   },
   "outputs": [],
   "source": [
    "def avg_word_length(x):\n",
    "    return np.mean([len(s) for s in x.split(' ')])"
   ]
  },
  {
   "cell_type": "code",
   "execution_count": 15,
   "metadata": {},
   "outputs": [
    {
     "data": {
      "text/plain": [
       "'data\\\\glove.840B.300d.txt'"
      ]
     },
     "execution_count": 15,
     "metadata": {},
     "output_type": "execute_result"
    }
   ],
   "source": [
    "pretrained"
   ]
  },
  {
   "cell_type": "code",
   "execution_count": 10,
   "metadata": {},
   "outputs": [
    {
     "name": "stdout",
     "output_type": "stream",
     "text": [
      "Train: (10000, 8)\n",
      "Test: (10000, 2)\n",
      "Train features: (0,)\n",
      "Test features: (0,)\n",
      "Input column: comment_text\n",
      "Class labels: toxic severe_toxic obscene threat insult identity_hate\n",
      "Models: Logistic regression newton: 30.0 balanced False True 1 100 ovr 1 l2 None newton-cg 0.0001 0 False | \n",
      "Transforms:  tokenize\n",
      "Feature functions:  function asterix_freq uppercase_freq line_change_freq rep_freq question_freq avg_word_length\n",
      "Metric: roc_auc\n",
      "CV scores: {'Logistic regression newton': -1}\n"
     ]
    }
   ],
   "source": [
    "pipe = NlpPipeline(train, test, \"comment_text\", class_labels, feature_funcs, transforms, models, word_vectors=vector_model)\n",
    "print(pipe)"
   ]
  },
  {
   "cell_type": "code",
   "execution_count": 10,
   "metadata": {},
   "outputs": [
    {
     "name": "stdout",
     "output_type": "stream",
     "text": [
      "Engineering features\n",
      "Applying transforms\n",
      "Creating embeddings\n",
      "Cross-validating\n",
      "LogisticRegression(C=30.0, class_weight='balanced', dual=False,\n",
      "          fit_intercept=True, intercept_scaling=1, max_iter=100,\n",
      "          multi_class='ovr', n_jobs=1, penalty='l2', random_state=None,\n",
      "          solver='newton-cg', tol=0.0001, verbose=0, warm_start=False)\n",
      "Cross-validating toxic\n",
      "roc_auc: 0.9506399333511346\n",
      "Cross-validating severe_toxic\n",
      "roc_auc: 0.9118874083358671\n",
      "Cross-validating obscene\n",
      "roc_auc: 0.9578279043009091\n",
      "Cross-validating threat\n",
      "roc_auc: 0.9317573176845425\n",
      "Cross-validating insult\n",
      "roc_auc: 0.9538170169144499\n",
      "Cross-validating identity_hate\n",
      "roc_auc: 0.9371347571530688\n",
      "Fitting and predicting\n",
      "Fitting submission classifier for toxic\n",
      "Fitting submission classifier for severe_toxic\n",
      "Fitting submission classifier for obscene\n",
      "Fitting submission classifier for threat\n",
      "Fitting submission classifier for insult\n",
      "Fitting submission classifier for identity_hate\n",
      "Creating submissions\n"
     ]
    }
   ],
   "source": [
    "pipe.run()"
   ]
  },
  {
   "cell_type": "code",
   "execution_count": 11,
   "metadata": {},
   "outputs": [
    {
     "name": "stdout",
     "output_type": "stream",
     "text": [
      "Engineering features\n",
      "Applying transforms\n",
      "Creating embeddings\n",
      "Cross-validating\n",
      "LogisticRegression(C=30.0, class_weight='balanced', dual=False,\n",
      "          fit_intercept=True, intercept_scaling=1, max_iter=100,\n",
      "          multi_class='ovr', n_jobs=1, penalty='l2', random_state=None,\n",
      "          solver='newton-cg', tol=0.0001, verbose=0, warm_start=False)\n",
      "Cross-validating toxic\n",
      "roc_auc: 0.9504455588890061\n",
      "Cross-validating severe_toxic\n",
      "roc_auc: 0.9070486249195193\n",
      "Cross-validating obscene\n",
      "roc_auc: 0.9578249857951221\n",
      "Cross-validating threat\n",
      "roc_auc: 0.9357188306850641\n",
      "Cross-validating insult\n",
      "roc_auc: 0.9537063551922313\n",
      "Cross-validating identity_hate\n",
      "roc_auc: 0.9371930174270675\n",
      "Fitting and predicting\n",
      "Fitting submission classifier for toxic\n",
      "Fitting submission classifier for severe_toxic\n",
      "Fitting submission classifier for obscene\n",
      "Fitting submission classifier for threat\n",
      "Fitting submission classifier for insult\n",
      "Fitting submission classifier for identity_hate\n",
      "Creating submissions\n"
     ]
    }
   ],
   "source": [
    "pipe.run()"
   ]
  },
  {
   "cell_type": "code",
   "execution_count": null,
   "metadata": {
    "collapsed": true
   },
   "outputs": [],
   "source": []
  }
 ],
 "metadata": {
  "kernelspec": {
   "display_name": "Python [conda root]",
   "language": "python",
   "name": "conda-root-py"
  },
  "language_info": {
   "codemirror_mode": {
    "name": "ipython",
    "version": 3
   },
   "file_extension": ".py",
   "mimetype": "text/x-python",
   "name": "python",
   "nbconvert_exporter": "python",
   "pygments_lexer": "ipython3",
   "version": "3.6.3"
  }
 },
 "nbformat": 4,
 "nbformat_minor": 2
}
