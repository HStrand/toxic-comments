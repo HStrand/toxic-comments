{
 "cells": [
  {
   "cell_type": "code",
   "execution_count": 2,
   "metadata": {
    "collapsed": true
   },
   "outputs": [],
   "source": [
    "import pandas as pd"
   ]
  },
  {
   "cell_type": "code",
   "execution_count": 62,
   "metadata": {},
   "outputs": [],
   "source": [
    "sub36 = pd.read_csv(\"submissions\\\\submission36.csv\")\n",
    "# lstm5 = pd.read_csv(\"submissions\\\\lstm5.csv\")\n",
    "lstm11 = pd.read_csv(\"submissions\\\\lstm11.csv\")\n",
    "# lstm4 = pd.read_csv(\"goodsubs\\\\lstm4.csv\")\n",
    "lstm8 = pd.read_csv(\"goodsubs\\\\lstm8.csv\")\n",
    "lstm9 = pd.read_csv(\"goodsubs\\\\lstm9.csv\")\n",
    "lstm12 = pd.read_csv(\"submissions\\\\lstm12.csv\")\n",
    "lstm13 = pd.read_csv(\"submissions\\\\lstm13.csv\")\n",
    "lstm14 = pd.read_csv(\"submissions\\\\lstm14.csv\")\n",
    "# gru2 = pd.read_csv(\"goodsubs\\\\gru2.csv\")\n",
    "onemore = pd.read_csv(\"goodsubs\\\\one_more_blend.csv\")"
   ]
  },
  {
   "cell_type": "code",
   "execution_count": 63,
   "metadata": {
    "collapsed": true
   },
   "outputs": [],
   "source": [
    "blend = sub36.copy()"
   ]
  },
  {
   "cell_type": "code",
   "execution_count": 64,
   "metadata": {},
   "outputs": [],
   "source": [
    "labels = [c for c in sub36.columns][1:]"
   ]
  },
  {
   "cell_type": "code",
   "execution_count": 65,
   "metadata": {
    "collapsed": true
   },
   "outputs": [],
   "source": [
    "blend[labels] = (4*sub36[labels]+lstm13[labels]+lstm14[labels]+lstm12[labels]+2*onemore[labels]) / 9"
   ]
  },
  {
   "cell_type": "code",
   "execution_count": 66,
   "metadata": {
    "collapsed": true
   },
   "outputs": [],
   "source": [
    "blend.to_csv(\"4sub36_lstm121314_2onemore.csv\", index=False)"
   ]
  },
  {
   "cell_type": "code",
   "execution_count": null,
   "metadata": {
    "collapsed": true
   },
   "outputs": [],
   "source": []
  }
 ],
 "metadata": {
  "kernelspec": {
   "display_name": "Python [conda root]",
   "language": "python",
   "name": "conda-root-py"
  },
  "language_info": {
   "codemirror_mode": {
    "name": "ipython",
    "version": 3
   },
   "file_extension": ".py",
   "mimetype": "text/x-python",
   "name": "python",
   "nbconvert_exporter": "python",
   "pygments_lexer": "ipython3",
   "version": "3.6.3"
  }
 },
 "nbformat": 4,
 "nbformat_minor": 2
}
