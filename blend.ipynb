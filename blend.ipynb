{
 "cells": [
  {
   "cell_type": "code",
   "execution_count": 1,
   "metadata": {
    "collapsed": true
   },
   "outputs": [],
   "source": [
    "import pandas as pd\n",
    "import numpy as np"
   ]
  },
  {
   "cell_type": "code",
   "execution_count": 2,
   "metadata": {
    "collapsed": true
   },
   "outputs": [],
   "source": [
    "sub53 = pd.read_csv(\"goodsubs\\\\submission53.csv\") # 0.9852\n",
    "sub54 = pd.read_csv(\"submissions\\\\submission54.csv\") # 0.9862\n",
    "sub56 = pd.read_csv(\"goodsubs\\\\submission56.csv\") # 0.9848\n",
    "sub58 = pd.read_csv(\"submissions\\\\submission58.csv\") # 0.9867\n",
    "lstm13 = pd.read_csv(\"submissions\\\\lstm13.csv\") # 0.9840\n",
    "lstm14 = pd.read_csv(\"submissions\\\\lstm14.csv\") # 0.9836\n",
    "lstm16 = pd.read_csv(\"submissions\\\\lstm16.csv\") # 0.9841\n",
    "lstm19 = pd.read_csv(\"submissions\\\\lstm19.csv\") # 0.9851\n",
    "lstm20 = pd.read_csv(\"submissions\\\\lstm20.csv\") # 0.9845\n",
    "lstm21 = pd.read_csv(\"submissions\\\\lstm21.csv\") # 0.9853\n",
    "gru5 = pd.read_csv(\"submissions\\\\gru5.csv\") # 0.9849\n",
    "gru7 = pd.read_csv(\"submissions\\\\gru7.csv\") # 0.9842\n",
    "gru8 = pd.read_csv(\"submissions\\\\gru8.csv\") # 0.9854\n",
    "grucnn = pd.read_csv(\"submissions\\\\grucnn1.csv\") # \n",
    "cnn = pd.read_csv(\"submissions\\\\cnn1.csv\") # \n",
    "superblend = pd.read_csv(\"superblend_1.csv\") # 0.9854\n",
    "hyperblend = pd.read_csv(\"hight_of_blend_v2.csv\") # 0.9861"
   ]
  },
  {
   "cell_type": "code",
   "execution_count": 13,
   "metadata": {
    "collapsed": true
   },
   "outputs": [],
   "source": [
    "sub61 = pd.read_csv(\"submissions\\\\submission61.csv\") # 0.9867\n",
    "sub64 = pd.read_csv(\"submissions\\\\submission64.csv\") # \n",
    "sub65 = pd.read_csv(\"submissions\\\\submission65.csv\") # \n",
    "sub67 = pd.read_csv(\"submissions\\\\submission65.csv\") # "
   ]
  },
  {
   "cell_type": "code",
   "execution_count": 4,
   "metadata": {
    "collapsed": true
   },
   "outputs": [],
   "source": [
    "sub45 = pd.read_csv(\"submissions\\\\submission45.csv\") # 0.9808"
   ]
  },
  {
   "cell_type": "code",
   "execution_count": 5,
   "metadata": {
    "collapsed": true
   },
   "outputs": [],
   "source": [
    "lstm12 = pd.read_csv(\"submissions\\\\lstm12.csv\") # 0.9827"
   ]
  },
  {
   "cell_type": "code",
   "execution_count": 6,
   "metadata": {
    "collapsed": true
   },
   "outputs": [],
   "source": [
    "sub66 = pd.read_csv(\"submissions\\\\submission66.csv\")"
   ]
  },
  {
   "cell_type": "code",
   "execution_count": 10,
   "metadata": {
    "collapsed": true
   },
   "outputs": [],
   "source": [
    "blend = sub61.copy()"
   ]
  },
  {
   "cell_type": "code",
   "execution_count": 11,
   "metadata": {
    "collapsed": true
   },
   "outputs": [],
   "source": [
    "labels = [c for c in sub61.columns][1:]"
   ]
  },
  {
   "cell_type": "code",
   "execution_count": 58,
   "metadata": {
    "collapsed": true
   },
   "outputs": [],
   "source": [
    "blend[labels] = (9*sub61[labels] + lstm12[labels] + lstm13[labels] + lstm14[labels] + lstm16[labels] + lstm19[labels] + lstm20[labels] + lstm21[labels] + gru5[labels] + hyperblend[labels]) / 18"
   ]
  },
  {
   "cell_type": "code",
   "execution_count": 59,
   "metadata": {
    "collapsed": true
   },
   "outputs": [],
   "source": [
    "blend.to_csv(\"9sub61_lstm12131416192021_gru5_hyperblend.csv\", index=False)"
   ]
  },
  {
   "cell_type": "code",
   "execution_count": 7,
   "metadata": {
    "collapsed": true
   },
   "outputs": [],
   "source": [
    "from scipy.stats import pearsonr"
   ]
  },
  {
   "cell_type": "code",
   "execution_count": 8,
   "metadata": {
    "collapsed": true
   },
   "outputs": [],
   "source": [
    "def pearson_pvalues(dataset1, dataset2):\n",
    "    correlations = []\n",
    "    for label in labels:\n",
    "        corr = pearsonr(dataset1[label], dataset2[label])[0]\n",
    "        correlations.append(corr)\n",
    "    print(np.mean(correlations))"
   ]
  },
  {
   "cell_type": "code",
   "execution_count": 15,
   "metadata": {},
   "outputs": [
    {
     "name": "stdout",
     "output_type": "stream",
     "text": [
      "0.9017021522484269\n",
      "0.9218254643975013\n",
      "0.9440469435736748\n",
      "0.9398031316959274\n",
      "0.959775916044605\n",
      "0.9440645741361152\n",
      "0.9545198169793715\n",
      "0.9392487296800768\n",
      "0.9477686391093796\n",
      "0.956724640322009\n",
      "0.938174769786715\n",
      "0.9599538761135232\n",
      "0.9537601521770722\n"
     ]
    }
   ],
   "source": [
    "pearson_pvalues(sub61, lstm12)\n",
    "pearson_pvalues(sub61, lstm13)\n",
    "pearson_pvalues(sub61, lstm14)\n",
    "pearson_pvalues(sub61, lstm16)\n",
    "pearson_pvalues(sub61, lstm19)\n",
    "pearson_pvalues(sub61, lstm20)\n",
    "pearson_pvalues(sub61, lstm21)\n",
    "pearson_pvalues(sub61, gru5)\n",
    "pearson_pvalues(sub61, gru7)\n",
    "pearson_pvalues(sub61, gru8)\n",
    "pearson_pvalues(sub61, grucnn)\n",
    "pearson_pvalues(sub61, superblend)\n",
    "pearson_pvalues(sub61, hyperblend)"
   ]
  },
  {
   "cell_type": "code",
   "execution_count": 16,
   "metadata": {},
   "outputs": [
    {
     "name": "stdout",
     "output_type": "stream",
     "text": [
      "0.9057156037466839\n",
      "0.9269048014828588\n",
      "0.9452109942407013\n",
      "0.9442283136516015\n",
      "0.9623835628522809\n",
      "0.9487472916986771\n",
      "0.9593123529684814\n",
      "0.9518305994562294\n",
      "0.9538139685551233\n",
      "0.9636817489550435\n",
      "0.9459755517508294\n",
      "0.9593302905107614\n",
      "0.9583517964861605\n"
     ]
    }
   ],
   "source": [
    "pearson_pvalues(sub67, lstm12)\n",
    "pearson_pvalues(sub67, lstm13)\n",
    "pearson_pvalues(sub67, lstm14)\n",
    "pearson_pvalues(sub67, lstm16)\n",
    "pearson_pvalues(sub67, lstm19)\n",
    "pearson_pvalues(sub67, lstm20)\n",
    "pearson_pvalues(sub67, lstm21)\n",
    "pearson_pvalues(sub67, gru5)\n",
    "pearson_pvalues(sub67, gru7)\n",
    "pearson_pvalues(sub67, gru8)\n",
    "pearson_pvalues(sub67, grucnn)\n",
    "pearson_pvalues(sub67, superblend)\n",
    "pearson_pvalues(sub67, hyperblend)"
   ]
  },
  {
   "cell_type": "code",
   "execution_count": 12,
   "metadata": {},
   "outputs": [
    {
     "name": "stdout",
     "output_type": "stream",
     "text": [
      "0.9144019104891715\n"
     ]
    }
   ],
   "source": [
    "pearson_pvalues(sub66, lstm12)"
   ]
  },
  {
   "cell_type": "code",
   "execution_count": 65,
   "metadata": {
    "collapsed": true
   },
   "outputs": [],
   "source": [
    "x = [1,2,3]"
   ]
  },
  {
   "cell_type": "code",
   "execution_count": 66,
   "metadata": {
    "collapsed": true
   },
   "outputs": [],
   "source": [
    "y = [1,1,0]"
   ]
  },
  {
   "cell_type": "code",
   "execution_count": 68,
   "metadata": {
    "collapsed": true
   },
   "outputs": [],
   "source": [
    "x = np.array(x)\n",
    "y = np.array(y)"
   ]
  },
  {
   "cell_type": "code",
   "execution_count": 69,
   "metadata": {},
   "outputs": [
    {
     "data": {
      "text/plain": [
       "array([1, 2, 0])"
      ]
     },
     "execution_count": 69,
     "metadata": {},
     "output_type": "execute_result"
    }
   ],
   "source": [
    "x*y"
   ]
  },
  {
   "cell_type": "code",
   "execution_count": 70,
   "metadata": {
    "collapsed": true
   },
   "outputs": [],
   "source": [
    "x = [[1,2,3],[4,5,6]]"
   ]
  },
  {
   "cell_type": "code",
   "execution_count": 71,
   "metadata": {
    "collapsed": true
   },
   "outputs": [],
   "source": [
    "x = np.array(x)"
   ]
  },
  {
   "cell_type": "code",
   "execution_count": 72,
   "metadata": {},
   "outputs": [
    {
     "data": {
      "text/plain": [
       "array([[1, 2, 0],\n",
       "       [4, 5, 0]])"
      ]
     },
     "execution_count": 72,
     "metadata": {},
     "output_type": "execute_result"
    }
   ],
   "source": [
    "x*y"
   ]
  },
  {
   "cell_type": "code",
   "execution_count": 73,
   "metadata": {},
   "outputs": [
    {
     "data": {
      "text/plain": [
       "array([3, 9])"
      ]
     },
     "execution_count": 73,
     "metadata": {},
     "output_type": "execute_result"
    }
   ],
   "source": [
    "x.dot(y)"
   ]
  },
  {
   "cell_type": "code",
   "execution_count": null,
   "metadata": {
    "collapsed": true
   },
   "outputs": [],
   "source": []
  }
 ],
 "metadata": {
  "kernelspec": {
   "display_name": "Python [conda root]",
   "language": "python",
   "name": "conda-root-py"
  },
  "language_info": {
   "codemirror_mode": {
    "name": "ipython",
    "version": 3
   },
   "file_extension": ".py",
   "mimetype": "text/x-python",
   "name": "python",
   "nbconvert_exporter": "python",
   "pygments_lexer": "ipython3",
   "version": "3.6.3"
  }
 },
 "nbformat": 4,
 "nbformat_minor": 2
}
