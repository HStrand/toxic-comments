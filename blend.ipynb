{
 "cells": [
  {
   "cell_type": "code",
   "execution_count": 4,
   "metadata": {
    "collapsed": true
   },
   "outputs": [],
   "source": [
    "import pandas as pd\n",
    "import numpy as np\n",
    "from sklearn.preprocessing import minmax_scale"
   ]
  },
  {
   "cell_type": "code",
   "execution_count": 50,
   "metadata": {},
   "outputs": [],
   "source": [
    "sub36 = pd.read_csv(\"submissions\\\\submission36.csv\") # 0.9851\n",
    "sub40 = pd.read_csv(\"submissions\\\\submission40.csv\") # 0.9851\n",
    "sub46 = pd.read_csv(\"submissions\\\\submission46.csv\") # 0.9851\n",
    "sub53 = pd.read_csv(\"submissions\\\\submission53.csv\") # 0.9852\n",
    "lstm13 = pd.read_csv(\"oldsubs\\\\lstm13.csv\") # 0.9840\n",
    "lstm14 = pd.read_csv(\"oldsubs\\\\lstm14.csv\") # 0.9836\n",
    "lstm16 = pd.read_csv(\"oldsubs\\\\lstm16.csv\") # 0.9841\n",
    "superblend = pd.read_csv(\"superblend_1.csv\") # 0.9854"
   ]
  },
  {
   "cell_type": "code",
   "execution_count": 5,
   "metadata": {
    "collapsed": true
   },
   "outputs": [],
   "source": [
    "blend = sub53.copy()"
   ]
  },
  {
   "cell_type": "code",
   "execution_count": 6,
   "metadata": {
    "collapsed": true
   },
   "outputs": [],
   "source": [
    "labels = [c for c in sub53.columns][1:]"
   ]
  },
  {
   "cell_type": "code",
   "execution_count": 7,
   "metadata": {
    "collapsed": true
   },
   "outputs": [],
   "source": [
    "blend[labels] = (2*minmax_scale(sub53[labels]) + minmax_scale(lstm13[labels]) + minmax_scale(lstm14[labels]) + minmax_scale(lstm16[labels]) + 2*minmax_scale(superblend[labels])) / 7"
   ]
  },
  {
   "cell_type": "code",
   "execution_count": 8,
   "metadata": {
    "collapsed": true
   },
   "outputs": [],
   "source": [
    "blend.to_csv(\"2sub53_lstm131416_2superblend.csv\", index=False)"
   ]
  },
  {
   "cell_type": "code",
   "execution_count": 63,
   "metadata": {
    "collapsed": true
   },
   "outputs": [],
   "source": [
    "from scipy.stats import pearsonr"
   ]
  },
  {
   "cell_type": "code",
   "execution_count": 25,
   "metadata": {
    "collapsed": true
   },
   "outputs": [],
   "source": [
    "def pearson_pvalues(dataset1, dataset2):\n",
    "    print(\"Correlations:\")\n",
    "    print(\"-----------------------------\")\n",
    "    correlations = []\n",
    "    for label in labels:\n",
    "        corr = pearsonr(dataset1[label], dataset2[label])[0]\n",
    "        correlations.append(corr)\n",
    "        print(label, corr)\n",
    "    print(\"-----------------------------\")\n",
    "    print(\"Average\", np.mean(correlations))"
   ]
  },
  {
   "cell_type": "code",
   "execution_count": 61,
   "metadata": {},
   "outputs": [
    {
     "name": "stdout",
     "output_type": "stream",
     "text": [
      "Correlations:\n",
      "-----------------------------\n",
      "toxic 0.964948885934\n",
      "severe_toxic 0.863589592745\n",
      "obscene 0.96175997706\n",
      "threat 0.859506640796\n",
      "insult 0.942893838666\n",
      "identity_hate 0.910687175192\n",
      "-----------------------------\n",
      "Average 0.917231018399\n"
     ]
    }
   ],
   "source": [
    "pearson_pvalues(lstm13, lstm14)"
   ]
  },
  {
   "cell_type": "code",
   "execution_count": 62,
   "metadata": {},
   "outputs": [
    {
     "name": "stdout",
     "output_type": "stream",
     "text": [
      "Correlations:\n",
      "-----------------------------\n",
      "toxic 0.976403734096\n",
      "severe_toxic 0.898783718429\n",
      "obscene 0.979667432474\n",
      "threat 0.878877945495\n",
      "insult 0.960892589996\n",
      "identity_hate 0.924443300935\n",
      "-----------------------------\n",
      "Average 0.936511453571\n"
     ]
    }
   ],
   "source": [
    "pearson_pvalues(lstm13, lstm16)"
   ]
  },
  {
   "cell_type": "code",
   "execution_count": 59,
   "metadata": {},
   "outputs": [
    {
     "name": "stdout",
     "output_type": "stream",
     "text": [
      "Correlations:\n",
      "-----------------------------\n",
      "toxic 0.961727621075\n",
      "severe_toxic 0.919125993378\n",
      "obscene 0.968845270129\n",
      "threat 0.843087648672\n",
      "insult 0.95519015296\n",
      "identity_hate 0.910759967771\n",
      "-----------------------------\n",
      "Average 0.926456108997\n"
     ]
    }
   ],
   "source": [
    "pearson_pvalues(sub53, lstm16)"
   ]
  },
  {
   "cell_type": "code",
   "execution_count": 60,
   "metadata": {},
   "outputs": [
    {
     "name": "stdout",
     "output_type": "stream",
     "text": [
      "Correlations:\n",
      "-----------------------------\n",
      "toxic 0.984186719565\n",
      "severe_toxic 0.950136761864\n",
      "obscene 0.980772360862\n",
      "threat 0.903855412897\n",
      "insult 0.980333056354\n",
      "identity_hate 0.948269510202\n",
      "-----------------------------\n",
      "Average 0.957925636957\n"
     ]
    }
   ],
   "source": [
    "pearson_pvalues(sub53, superblend)"
   ]
  },
  {
   "cell_type": "code",
   "execution_count": null,
   "metadata": {
    "collapsed": true
   },
   "outputs": [],
   "source": []
  }
 ],
 "metadata": {
  "kernelspec": {
   "display_name": "Python [conda root]",
   "language": "python",
   "name": "conda-root-py"
  },
  "language_info": {
   "codemirror_mode": {
    "name": "ipython",
    "version": 3
   },
   "file_extension": ".py",
   "mimetype": "text/x-python",
   "name": "python",
   "nbconvert_exporter": "python",
   "pygments_lexer": "ipython3",
   "version": "3.6.3"
  }
 },
 "nbformat": 4,
 "nbformat_minor": 2
}
