{
 "cells": [
  {
   "cell_type": "code",
   "execution_count": 19,
   "metadata": {
    "collapsed": true
   },
   "outputs": [],
   "source": [
    "import pandas as pd\n",
    "import numpy as np\n",
    "from sklearn.preprocessing import minmax_scale"
   ]
  },
  {
   "cell_type": "code",
   "execution_count": 20,
   "metadata": {
    "collapsed": true
   },
   "outputs": [],
   "source": [
    "sub53 = pd.read_csv(\"goodsubs\\\\submission53.csv\") # 0.9852\n",
    "sub54 = pd.read_csv(\"submissions\\\\submission54.csv\") # 0.9862\n",
    "sub56 = pd.read_csv(\"goodsubs\\\\submission56.csv\") # 0.9848\n",
    "sub58 = pd.read_csv(\"submissions\\\\submission58.csv\") # 0.9867\n",
    "sub70 = pd.read_csv(\"submissions\\\\submission70.csv\") # 0.9867\n",
    "lstm13 = pd.read_csv(\"submissions\\\\lstm13.csv\") # 0.9840\n",
    "lstm14 = pd.read_csv(\"submissions\\\\lstm14.csv\") # 0.9836\n",
    "lstm16 = pd.read_csv(\"submissions\\\\lstm16.csv\") # 0.9841\n",
    "lstm17 = pd.read_csv(\"submissions\\\\lstm17.csv\") # \n",
    "lstm18 = pd.read_csv(\"submissions\\\\lstm18.csv\") # \n",
    "lstm19 = pd.read_csv(\"submissions\\\\lstm19.csv\") # 0.9851\n",
    "lstm20 = pd.read_csv(\"submissions\\\\lstm20.csv\") # 0.9845\n",
    "lstm21 = pd.read_csv(\"submissions\\\\lstm21.csv\") # 0.9853\n",
    "lstm22 = pd.read_csv(\"submissions\\\\lstm21.csv\") # 0.9851\n",
    "gru5 = pd.read_csv(\"submissions\\\\gru5.csv\") # 0.9849\n",
    "gru7 = pd.read_csv(\"submissions\\\\gru7.csv\") # 0.9842\n",
    "gru8 = pd.read_csv(\"submissions\\\\gru8.csv\") # 0.9854\n",
    "gru9 = pd.read_csv(\"submissions\\\\gru9.csv\") # 0.9854\n",
    "gru10 = pd.read_csv(\"submissions\\\\gru10.csv\") # 0.9854\n",
    "gru11 = pd.read_csv(\"submissions\\\\gru11.csv\") # 0.9854\n",
    "grucnn = pd.read_csv(\"submissions\\\\grucnn1.csv\") # \n",
    "cnn = pd.read_csv(\"submissions\\\\cnn1.csv\") # \n",
    "superblend = pd.read_csv(\"superblend_1.csv\") # 0.9854\n",
    "hyperblend = pd.read_csv(\"hight_of_blend_v2.csv\") # 0.9861"
   ]
  },
  {
   "cell_type": "code",
   "execution_count": 21,
   "metadata": {
    "collapsed": true
   },
   "outputs": [],
   "source": [
    "sub61 = pd.read_csv(\"submissions\\\\submission61.csv\") # 0.9867\n",
    "sub64 = pd.read_csv(\"submissions\\\\submission64.csv\") # \n",
    "sub65 = pd.read_csv(\"submissions\\\\submission65.csv\") # \n",
    "sub67 = pd.read_csv(\"submissions\\\\submission65.csv\") # "
   ]
  },
  {
   "cell_type": "code",
   "execution_count": 22,
   "metadata": {
    "collapsed": true
   },
   "outputs": [],
   "source": [
    "sub45 = pd.read_csv(\"submissions\\\\submission45.csv\") # 0.9808"
   ]
  },
  {
   "cell_type": "code",
   "execution_count": 23,
   "metadata": {
    "collapsed": true
   },
   "outputs": [],
   "source": [
    "lstm12 = pd.read_csv(\"submissions\\\\lstm12.csv\") # 0.9827"
   ]
  },
  {
   "cell_type": "code",
   "execution_count": 24,
   "metadata": {
    "collapsed": true
   },
   "outputs": [],
   "source": [
    "sub66 = pd.read_csv(\"submissions\\\\submission66.csv\")"
   ]
  },
  {
   "cell_type": "code",
   "execution_count": 79,
   "metadata": {
    "collapsed": true
   },
   "outputs": [],
   "source": [
    "sub73 = pd.read_csv(\"submissions\\\\submission73.csv\")\n",
    "sub74 = pd.read_csv(\"submissions\\\\submission74.csv\")\n",
    "sub77 = pd.read_csv(\"submissions\\\\submission77.csv\") # 0.9870\n",
    "sub78 = pd.read_csv(\"submissions\\\\submission78.csv\") # 0.9851\n",
    "sub80 = pd.read_csv(\"submissions\\\\submission80.csv\") # \n",
    "sub87 = pd.read_csv(\"submissions\\\\submission80.csv\") # 0.9869\n",
    "sub88 = pd.read_csv(\"submissions\\\\submission80.csv\") # 0.9870\n",
    "sub91 = pd.read_csv(\"submissions\\\\submission91.csv\")\n",
    "sub93 = pd.read_csv(\"submissions\\\\submission93.csv\")\n",
    "sub94 = pd.read_csv(\"submissions\\\\submission94.csv\")\n",
    "sub96 = pd.read_csv(\"submissions\\\\submission96.csv\")"
   ]
  },
  {
   "cell_type": "code",
   "execution_count": 26,
   "metadata": {
    "collapsed": true
   },
   "outputs": [],
   "source": [
    "sub69 = pd.read_csv(\"submissions\\\\submission69.csv\")\n",
    "sub71 = pd.read_csv(\"submissions\\\\submission71.csv\")\n",
    "sub72 = pd.read_csv(\"submissions\\\\submission72.csv\")"
   ]
  },
  {
   "cell_type": "code",
   "execution_count": 27,
   "metadata": {
    "collapsed": true
   },
   "outputs": [],
   "source": [
    "sub21 = pd.read_csv(\"submissions\\\\submission21.csv\")\n",
    "sub22 = pd.read_csv(\"submissions\\\\submission22.csv\")\n",
    "sub29 = pd.read_csv(\"submissions\\\\submission29.csv\")\n",
    "sub51 = pd.read_csv(\"submissions\\\\submission51.csv\")\n",
    "sub33 = pd.read_csv(\"submissions\\\\submission33.csv\")\n",
    "sub37 = pd.read_csv(\"submissions\\\\submission37.csv\")\n",
    "sub44 = pd.read_csv(\"submissions\\\\submission44.csv\")\n",
    "sub45 = pd.read_csv(\"submissions\\\\submission45.csv\")\n",
    "sub52 = pd.read_csv(\"submissions\\\\submission52.csv\")\n",
    "sub57 = pd.read_csv(\"submissions\\\\submission57.csv\")"
   ]
  },
  {
   "cell_type": "code",
   "execution_count": 28,
   "metadata": {
    "collapsed": true
   },
   "outputs": [],
   "source": [
    "gru10_5fold0 = pd.read_csv(\"submissions\\\\gru10_5fold_0.csv\")\n",
    "gru10_5fold1 = pd.read_csv(\"submissions\\\\gru10_5fold_1.csv\")\n",
    "gru10_5fold2 = pd.read_csv(\"submissions\\\\gru10_5fold_2.csv\")\n",
    "gru10_5fold3 = pd.read_csv(\"submissions\\\\gru10_5fold_3.csv\")\n",
    "gru10_5fold4 = pd.read_csv(\"submissions\\\\gru10_5fold_4.csv\")"
   ]
  },
  {
   "cell_type": "code",
   "execution_count": 26,
   "metadata": {
    "collapsed": true
   },
   "outputs": [],
   "source": [
    "gru10_5fold = (gru10_5fold0[labels] + gru10_5fold1[labels] + gru10_5fold2[labels] + gru10_5fold3[labels] + gru10_5fold4[labels])/5"
   ]
  },
  {
   "cell_type": "code",
   "execution_count": 2,
   "metadata": {
    "collapsed": true
   },
   "outputs": [],
   "source": [
    "gru10_10fold0 = pd.read_csv(\"submissions\\\\gru10_10fold_0.csv\")\n",
    "gru10_10fold1 = pd.read_csv(\"submissions\\\\gru10_10fold_1.csv\")\n",
    "gru10_10fold2 = pd.read_csv(\"submissions\\\\gru10_10fold_2.csv\")\n",
    "gru10_10fold3 = pd.read_csv(\"submissions\\\\gru10_10fold_3.csv\")\n",
    "gru10_10fold4 = pd.read_csv(\"submissions\\\\gru10_10fold_4.csv\")\n",
    "gru10_10fold5 = pd.read_csv(\"submissions\\\\gru10_10fold_5.csv\")\n",
    "gru10_10fold6 = pd.read_csv(\"submissions\\\\gru10_10fold_6.csv\")\n",
    "gru10_10fold7 = pd.read_csv(\"submissions\\\\gru10_10fold_7.csv\")\n",
    "gru10_10fold8 = pd.read_csv(\"submissions\\\\gru10_10fold_8.csv\")\n",
    "gru10_10fold9 = pd.read_csv(\"submissions\\\\gru10_10fold_9.csv\")"
   ]
  },
  {
   "cell_type": "code",
   "execution_count": 10,
   "metadata": {},
   "outputs": [],
   "source": [
    "gru10_10fold[labels] = (gru10_10fold0[labels] + gru10_10fold1[labels] + gru10_10fold2[labels] + gru10_10fold3[labels] + gru10_10fold4[labels] + gru10_10fold5[labels] + gru10_10fold6[labels] + gru10_10fold7[labels] + gru10_10fold8[labels] + gru10_10fold9[labels])/10"
   ]
  },
  {
   "cell_type": "code",
   "execution_count": 13,
   "metadata": {
    "collapsed": true
   },
   "outputs": [],
   "source": [
    "gru10_10fold.to_csv(\"gru10_10fold.csv\", index=False)"
   ]
  },
  {
   "cell_type": "code",
   "execution_count": 9,
   "metadata": {
    "collapsed": true
   },
   "outputs": [],
   "source": [
    "gru10_10fold = sub88.copy()"
   ]
  },
  {
   "cell_type": "code",
   "execution_count": 5,
   "metadata": {
    "collapsed": true
   },
   "outputs": [],
   "source": [
    "blend = sub88.copy()"
   ]
  },
  {
   "cell_type": "code",
   "execution_count": 6,
   "metadata": {
    "collapsed": true
   },
   "outputs": [],
   "source": [
    "labels = [c for c in sub88.columns][1:]"
   ]
  },
  {
   "cell_type": "code",
   "execution_count": 23,
   "metadata": {
    "collapsed": true
   },
   "outputs": [],
   "source": [
    "blend[labels] = (4*sub88[labels] + lstm19[labels] + lstm21[labels] + gru10[labels] + (lstm12[labels]+lstm13[labels]+lstm16[labels])/3 ) / 8"
   ]
  },
  {
   "cell_type": "code",
   "execution_count": 24,
   "metadata": {
    "collapsed": true
   },
   "outputs": [],
   "source": [
    "blend.to_csv(\"4sub88_lstm1921_gru10_thirdlstm121316.csv\", index=False)"
   ]
  },
  {
   "cell_type": "code",
   "execution_count": 16,
   "metadata": {
    "collapsed": true
   },
   "outputs": [],
   "source": [
    "from scipy.stats import pearsonr"
   ]
  },
  {
   "cell_type": "code",
   "execution_count": 17,
   "metadata": {
    "collapsed": true
   },
   "outputs": [],
   "source": [
    "def pearson_pvalues(dataset1, dataset2):\n",
    "    correlations = []\n",
    "    for label in labels:\n",
    "        corr = pearsonr(dataset1[label], dataset2[label])[0]\n",
    "        correlations.append(corr)\n",
    "    print(np.mean(correlations))"
   ]
  },
  {
   "cell_type": "code",
   "execution_count": 115,
   "metadata": {},
   "outputs": [
    {
     "name": "stdout",
     "output_type": "stream",
     "text": [
      "0.9549832488283311\n",
      "0.9231566859377813\n",
      "0.9412853297449563\n",
      "0.9509370343085485\n",
      "0.9514588838055552\n",
      "0.9518469678045606\n",
      "0.9556309164095668\n",
      "0.9522382617886241\n"
     ]
    }
   ],
   "source": [
    "pearson_pvalues(sub77, lstm21)\n",
    "pearson_pvalues(sub77, lstm13)\n",
    "pearson_pvalues(sub77, gru5)\n",
    "pearson_pvalues(sub77, gru10)\n",
    "pearson_pvalues(sub77, a1)\n",
    "pearson_pvalues(sub77, a2)\n",
    "pearson_pvalues(sub77, a3)\n",
    "pearson_pvalues(sub77, a4)"
   ]
  },
  {
   "cell_type": "code",
   "execution_count": 120,
   "metadata": {},
   "outputs": [
    {
     "name": "stdout",
     "output_type": "stream",
     "text": [
      "0.9519297968166351\n",
      "0.9434015910164698\n",
      "0.9496498904498231\n",
      "0.9338608336668431\n",
      "0.9538081748936467\n",
      "0.9568544474530442\n"
     ]
    }
   ],
   "source": [
    "pearson_pvalues(a1, lstm21)\n",
    "pearson_pvalues(a1, gru5)\n",
    "pearson_pvalues(a1, gru10)\n",
    "pearson_pvalues(a1, lstm13)\n",
    "pearson_pvalues(a1, lstm19)\n",
    "pearson_pvalues(a1, a7)"
   ]
  },
  {
   "cell_type": "code",
   "execution_count": 46,
   "metadata": {},
   "outputs": [],
   "source": [
    "a1 = pd.read_csv(\"abhishek\\\\gru_lstm_cnn_preprocess_fasttext_crawl_v2_500_test.csv\",header=None)\n",
    "a1.columns = labels"
   ]
  },
  {
   "cell_type": "code",
   "execution_count": 87,
   "metadata": {
    "collapsed": true
   },
   "outputs": [],
   "source": [
    "a2 = pd.read_csv(\"abhishek\\\\gru_lstm_cnn_preprocess_fasttext_crawl_orignew_500_test.csv\",header=None)\n",
    "a2.columns = labels"
   ]
  },
  {
   "cell_type": "code",
   "execution_count": 88,
   "metadata": {
    "collapsed": true
   },
   "outputs": [],
   "source": [
    "a3 = pd.read_csv(\"abhishek\\\\gru_lstm_cnn_preprocess_fasttext_crawl_500_test.csv\",header=None)\n",
    "a3.columns = labels"
   ]
  },
  {
   "cell_type": "code",
   "execution_count": 95,
   "metadata": {},
   "outputs": [],
   "source": [
    "a4 = pd.read_csv(\"abhishek\\\\gru_lstm_cnn_preprocess_fasttext_crawl_600_test.csv\",header=None)\n",
    "a4.columns = labels"
   ]
  },
  {
   "cell_type": "code",
   "execution_count": 118,
   "metadata": {},
   "outputs": [],
   "source": [
    "a7 = pd.read_csv(\"abhishek\\\\pooled_dict_preprocess_bidir_gru_fasttext_wiki_100k_shuffle10_test.csv\",header=None)\n",
    "a7.columns = labels"
   ]
  },
  {
   "cell_type": "code",
   "execution_count": 83,
   "metadata": {
    "collapsed": true
   },
   "outputs": [],
   "source": [
    "a5 = pd.read_csv(\"abhishek\\\\gru_lstm_cnn_preprocess_fasttext_crawl_600_test.csv\",header=None)\n",
    "a5.columns = labels"
   ]
  },
  {
   "cell_type": "code",
   "execution_count": 85,
   "metadata": {
    "collapsed": true
   },
   "outputs": [],
   "source": [
    "a6 = pd.read_csv(\"abhishek\\\\cnn_cnn_gru_preprocess_fasttext_crawl_shuffle10_test.csv\",header=None)\n",
    "a6.columns = labels"
   ]
  },
  {
   "cell_type": "code",
   "execution_count": 67,
   "metadata": {
    "collapsed": true
   },
   "outputs": [],
   "source": [
    "sub96 = pd.read_csv(\"submissions\\\\submission96.csv\")"
   ]
  },
  {
   "cell_type": "code",
   "execution_count": 64,
   "metadata": {
    "collapsed": true
   },
   "outputs": [],
   "source": [
    "blend = sub96.copy()"
   ]
  },
  {
   "cell_type": "code",
   "execution_count": 98,
   "metadata": {
    "collapsed": true
   },
   "outputs": [],
   "source": [
    "blend[labels] = (4*minmax_scale(sub96[labels]) + minmax_scale(a1[labels]) + minmax_scale(a2[labels]) + minmax_scale(a3[labels]) + minmax_scale(a4[labels]) ) / 8"
   ]
  },
  {
   "cell_type": "code",
   "execution_count": 99,
   "metadata": {},
   "outputs": [],
   "source": [
    "blend.to_csv(\"4sub96_a1a2a3a4.csv\", index=False)"
   ]
  },
  {
   "cell_type": "code",
   "execution_count": null,
   "metadata": {
    "collapsed": true
   },
   "outputs": [],
   "source": []
  }
 ],
 "metadata": {
  "kernelspec": {
   "display_name": "Python [conda root]",
   "language": "python",
   "name": "conda-root-py"
  },
  "language_info": {
   "codemirror_mode": {
    "name": "ipython",
    "version": 3
   },
   "file_extension": ".py",
   "mimetype": "text/x-python",
   "name": "python",
   "nbconvert_exporter": "python",
   "pygments_lexer": "ipython3",
   "version": "3.6.3"
  }
 },
 "nbformat": 4,
 "nbformat_minor": 2
}
